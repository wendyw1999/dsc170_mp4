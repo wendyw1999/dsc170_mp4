{
 "cells": [
  {
   "cell_type": "markdown",
   "metadata": {},
   "source": [
    "## DSC170, Mini-Project # 4\n",
    "\n",
    "This project will focus on __suitability analysis__ with raster data. Your tasks will be both conceptual-level and technical. \n",
    "\n",
    "There are three parts to this assignment.\n",
    "\n",
    "1. At the conceptual level, you will define a suitability model of your choice, for an area of your choice (preferably San Diego, because we already have worked with some local data). Consult the lectures on map combination, and also see https://en.wikipedia.org/wiki/Suitability_model for a brief description of what a suitability model is. For example, you may be looking for best areas for community gardens. Such areas are often selected from underutilized land in residential land uses, with good soils, good drainage, accessible (not steep slope), etc. So you would be looking for areas with a specific type of land use/land cover, with an appropriate range of values of slope, etc. You may build additional criteria based on a range of precipitaiton values, whether the area is affected by wildfires, or has low levels of soil erosion, etc. Feel free to use the imagery layers we explored or mentioned during raster-focused lectures. One of the cells contained a list of about a dozen such layers available through AGOL - but feel free to find more. Also, feel free to download additional raster layers from elsewhere (an example in lecture demonstrates how to do this from the USGS image repository.)  You can use any __two__ of the map combination techniques discussed during lectures. You should identify the ones you use, and discuss any uncertainty issues associated with these specific map combination models. \n",
    "\n",
    "As the outcome of this part, you will need to: a) describe the suitability model you want to develop; b) identify the raster data layers you will use; and c) describe two of the map combination techniques you will use to derive the two suitablity maps, and their pros and cons.\n",
    "\n",
    "2. The second part will involve implementing your suitability model using arcgis raster functions. Many of these functions are new and experimental! Examples of what works are in the lecture notebooks. Be creative! But also note that the functions are associated with raster services and depend on the version of the server a particular imagery layer is served from. See in the lecture notebooks how you can retrieve the version of the API supported by each layer, and which functions are supported in each API. \n",
    "\n",
    "3. The third part will be a brief write-up comparing the two output rasters generated for the suitability models using the two map combination techniques. \n",
    "\n",
    "The notebook should include documentation of the steps, as usually.\n",
    "\n",
    "__How to submit.__ This MP4 template notebook can be fetched and submitted from NBGrader on the UCSD Datahub. "
   ]
  },
  {
   "cell_type": "code",
   "execution_count": null,
   "metadata": {},
   "outputs": [],
   "source": [
    "# Names: \n",
    "#\n",
    "# IDs:\n",
    "#"
   ]
  },
  {
   "cell_type": "code",
   "execution_count": null,
   "metadata": {},
   "outputs": [],
   "source": [
    "# 1. Formulate a suitability model (markdown, about 100 words)\n"
   ]
  },
  {
   "cell_type": "code",
   "execution_count": null,
   "metadata": {},
   "outputs": [],
   "source": [
    "# 2. Imports, etc."
   ]
  },
  {
   "cell_type": "code",
   "execution_count": null,
   "metadata": {},
   "outputs": [],
   "source": [
    "# 3. List imagery layers to be used in your model. This cell should contian layer definitions.\n",
    "\n"
   ]
  },
  {
   "cell_type": "code",
   "execution_count": null,
   "metadata": {},
   "outputs": [],
   "source": [
    "# 4. Derive the area of interest (AOI) and its geometry and extent. \n",
    "# The smaller the area the better (so that you don't run into raster size limitations)\n"
   ]
  },
  {
   "cell_type": "code",
   "execution_count": null,
   "metadata": {},
   "outputs": [],
   "source": [
    "# 5. Name the two map combination techniques you will use to combine the data and describe their pros and cons (markdown) "
   ]
  },
  {
   "cell_type": "code",
   "execution_count": null,
   "metadata": {},
   "outputs": [],
   "source": [
    "# 6. Prepare your input layers for map combination: clip to AOI, remap/normalize, visualize the layers. Define what you mean to be on a bike route, \n"
   ]
  },
  {
   "cell_type": "code",
   "execution_count": null,
   "metadata": {},
   "outputs": [],
   "source": [
    "# 7a. Generate a composite raster layer for your first map combination technique\n"
   ]
  },
  {
   "cell_type": "code",
   "execution_count": null,
   "metadata": {},
   "outputs": [],
   "source": [
    "# 7b. Generate a composite raster layer for your second map combination technique\n"
   ]
  },
  {
   "cell_type": "code",
   "execution_count": null,
   "metadata": {},
   "outputs": [],
   "source": [
    "# 8. Compare the results, and describe how different combination techniques resulted in different outputs (or not.)\n",
    "# \n"
   ]
  },
  {
   "cell_type": "code",
   "execution_count": null,
   "metadata": {},
   "outputs": [],
   "source": [
    "# Please let us know how much time you spent on this project, in hours: \n",
    "# (we will only examine distributions and won't look at individual responses)\n",
    "assignment_timespent = \n",
    "extracredit_timespent = "
   ]
  },
  {
   "cell_type": "code",
   "execution_count": null,
   "metadata": {},
   "outputs": [],
   "source": []
  }
 ],
 "metadata": {
  "kernelspec": {
   "display_name": "Python 3",
   "language": "python",
   "name": "python3"
  },
  "language_info": {
   "codemirror_mode": {
    "name": "ipython",
    "version": 3
   },
   "file_extension": ".py",
   "mimetype": "text/x-python",
   "name": "python",
   "nbconvert_exporter": "python",
   "pygments_lexer": "ipython3",
   "version": "3.7.6"
  }
 },
 "nbformat": 4,
 "nbformat_minor": 2
}
